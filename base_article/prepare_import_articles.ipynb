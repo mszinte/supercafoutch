{
 "cells": [
  {
   "cell_type": "code",
   "execution_count": 2,
   "metadata": {},
   "outputs": [],
   "source": [
    "# download the data by saving in Google the tab \"Fiche article\" as csv and rename it as article.csv\n",
    "\n",
    "# some imports\n",
    "import os\n",
    "import shutil\n",
    "import pandas as pd\n",
    "import numpy as np\n",
    "import wget\n",
    "from PIL import Image\n",
    "from pydrive.auth import GoogleAuth\n",
    "from pydrive.drive import GoogleDrive\n",
    "import base64\n",
    "\n",
    "# manual part !!!!!\n",
    "# download page in csv and name it article.csv\n",
    "\n",
    "# read data file\n",
    "db_filename = 'Article et fournisseurs - Articles.csv'\n",
    "db_csv_pd = pd.read_csv(db_filename)\n",
    "\n",
    "# define number of the article to treat\n",
    "article_start = 0\n",
    "article_end = 800"
   ]
  },
  {
   "cell_type": "code",
   "execution_count": 3,
   "metadata": {},
   "outputs": [
    {
     "name": "stdout",
     "output_type": "stream",
     "text": [
      "Your browser has been opened to visit:\n",
      "\n",
      "    https://accounts.google.com/o/oauth2/auth?client_id=504548773074-ovgd3eumqi4q992di7i06irc12b1be7f.apps.googleusercontent.com&redirect_uri=http%3A%2F%2Flocalhost%3A8080%2F&scope=https%3A%2F%2Fwww.googleapis.com%2Fauth%2Fdrive&access_type=offline&response_type=code\n",
      "\n",
      "Authentication successful.\n"
     ]
    }
   ],
   "source": [
    "# google authentification\n",
    "gauth = GoogleAuth()\n",
    "gauth.LocalWebserverAuth()\n",
    "drive = GoogleDrive(gauth)"
   ]
  },
  {
   "cell_type": "code",
   "execution_count": 4,
   "metadata": {},
   "outputs": [],
   "source": [
    "# define link mat\n",
    "link_head = \"Lien vers photo\"\n",
    "mising_file = 'https://drive.google.com/file/d/15HqdEhGFNL9ycQnL2sJYddhsz56PuwNX'\n",
    "db_csv_pd[link_head] = db_csv_pd[link_head].fillna(mising_file)\n",
    "link_mat = db_csv_pd[link_head][article_start:article_end]\n",
    "name_head = \"Nom d'article au Super Cafoutch\"\n",
    "name_mat = db_csv_pd[name_head][article_start:article_end]\n",
    "\n",
    "# define temp folders\n",
    "shutil.rmtree('tmp/')\n",
    "shutil.rmtree('tmp2/')\n",
    "try : \n",
    "    os.makedirs('tmp/')\n",
    "    os.makedirs('tmp2/')\n",
    "except: \n",
    "    pass"
   ]
  },
  {
   "cell_type": "code",
   "execution_count": 5,
   "metadata": {},
   "outputs": [],
   "source": [
    "num = 0\n",
    "base64_mat = []\n",
    "for link,name in zip(link_mat,name_mat):\n",
    "    num += 1\n",
    "    \n",
    "    # download images\n",
    "    img_path = 'tmp/{:04d}.img'.format(num)\n",
    "    if not os.path.exists(img_path):\n",
    "        if \"missing\" in link:\n",
    "            if link.find('id') == -1: link_id = link[link.find('/d/')+3:]\n",
    "            else: link_id = link[link.find('id=')+3:]\n",
    "            drive.CreateFile({'id': link_id}).GetContentFile(img_path)\n",
    "        elif \"https://drive.google.com\" in link:\n",
    "            if link.find('id') == -1: link_id = link[link.find('/d/')+3:]\n",
    "            else: link_id = link[link.find('id=')+3:]\n",
    "            drive.CreateFile({'id': link_id}).GetContentFile(img_path)\n",
    "        else:\n",
    "            wget.download(url = link, out = img_path)\n",
    "\n",
    "    # convert them to jpg\n",
    "    jpg_path = 'tmp2/{:04d}.jpg'.format(num)\n",
    "    try:\n",
    "        if not os.path.exists(jpg_path):\n",
    "            Image.open(img_path).convert('RGB').save(jpg_path,'JPEG', quality = 100)\n",
    "    except:\n",
    "        print(name+' '+link)\n",
    "\n",
    "    # convert to base64\n",
    "    with open(jpg_path, \"rb\") as jpg_file:\n",
    "        base64_string = base64.b64encode(jpg_file.read())\n",
    "    base64_mat.append(base64_string)"
   ]
  },
  {
   "cell_type": "code",
   "execution_count": 6,
   "metadata": {},
   "outputs": [],
   "source": [
    "# save data\n",
    "dict_label = {'base64': base64_mat}\n",
    "new_db_csv_pd = pd.DataFrame(dict_label)\n",
    "new_db_csv_pd = db_csv_pd[article_start:article_end]\n",
    "new_db_csv_pd.insert(19, \"base64\", base64_mat, True)\n",
    "new_db_filename = 'article_with_base64.csv'\n",
    "new_db_csv_pd.to_csv(new_db_filename, sep=',', encoding='utf-8')"
   ]
  },
  {
   "cell_type": "code",
   "execution_count": null,
   "metadata": {},
   "outputs": [],
   "source": []
  }
 ],
 "metadata": {
  "kernelspec": {
   "display_name": "Python 3",
   "language": "python",
   "name": "python3"
  },
  "language_info": {
   "codemirror_mode": {
    "name": "ipython",
    "version": 3
   },
   "file_extension": ".py",
   "mimetype": "text/x-python",
   "name": "python",
   "nbconvert_exporter": "python",
   "pygments_lexer": "ipython3",
   "version": "3.6.9"
  }
 },
 "nbformat": 4,
 "nbformat_minor": 4
}
